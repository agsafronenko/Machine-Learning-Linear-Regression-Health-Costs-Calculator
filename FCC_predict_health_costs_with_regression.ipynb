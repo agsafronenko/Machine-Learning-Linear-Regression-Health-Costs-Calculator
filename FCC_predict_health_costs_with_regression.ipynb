{
  "cells": [
    {
      "cell_type": "code",
      "execution_count": null,
      "metadata": {
        "id": "1rRo8oNqZ-Rj"
      },
      "outputs": [],
      "source": [
        "# Import libraries. You may or may not use all of these.\n",
        "\n",
        "!pip install -q git+https://github.com/tensorflow/docs\n",
        "import matplotlib.pyplot as plt\n",
        "import numpy as np\n",
        "import pandas as pd\n",
        "\n",
        "try:\n",
        "  # %tensorflow_version only exists in Colab.\n",
        "  %tensorflow_version 2.x\n",
        "except Exception:\n",
        "  pass\n",
        "import tensorflow as tf\n",
        "\n",
        "from tensorflow import keras\n",
        "from tensorflow.keras import layers\n",
        "\n",
        "import tensorflow_docs as tfdocs\n",
        "import tensorflow_docs.plots\n",
        "import tensorflow_docs.modeling"
      ]
    },
    {
      "cell_type": "code",
      "execution_count": null,
      "metadata": {
        "id": "CiX2FI4gZtTt"
      },
      "outputs": [],
      "source": [
        "# Import data\n",
        "\n",
        "!wget https://cdn.freecodecamp.org/project-data/health-costs/insurance.csv\n",
        "dataset = pd.read_csv('insurance.csv')\n",
        "dataset.tail()"
      ]
    },
    {
      "cell_type": "code",
      "source": [
        "data_for_visual_analysis = dataset.copy()"
      ],
      "metadata": {
        "id": "trT2KkO0EH36"
      },
      "execution_count": null,
      "outputs": []
    },
    {
      "cell_type": "markdown",
      "source": [
        "Visualization of the correlation between expenses and other data groups."
      ],
      "metadata": {
        "id": "SQNVWSfbD39G"
      }
    },
    {
      "cell_type": "code",
      "source": [
        "# Age groups\n",
        "\n",
        "bins = [0, 20, 30, 40, 50, 60, 70, 80]\n",
        "labels = ['0-20', '21-30', '31-40', '41-50', '51-60', '61-70', '71-100']\n",
        "data_for_visual_analysis['age_group'] = pd.cut(data_for_visual_analysis['age'], bins=bins, labels=labels)\n",
        "\n",
        "\n",
        "# Bar plot of Average Expenses by Age Group\n",
        "\n",
        "average_expenses_age_group = data_for_visual_analysis.groupby('age_group')['expenses'].mean().reset_index()\n",
        "plt.figure(figsize=(8, 5))\n",
        "plt.bar(average_expenses_age_group['age_group'], average_expenses_age_group['expenses'], color='orange')\n",
        "plt.title('Average Expenses by Age Group')\n",
        "plt.xlabel('Age Group')\n",
        "plt.ylabel('Average Expenses')\n",
        "plt.grid(axis='y')\n",
        "plt.show()"
      ],
      "metadata": {
        "id": "lyL_bFSE7rc1"
      },
      "execution_count": null,
      "outputs": []
    },
    {
      "cell_type": "code",
      "source": [
        "# Bar plot of Average Expenses by Sex\n",
        "\n",
        "expenses_by_sex = data_for_visual_analysis.groupby('sex')['expenses'].mean()\n",
        "plt.figure(figsize=(8, 5))\n",
        "expenses_by_sex.plot(kind='bar', color=['orange', 'skyblue'])\n",
        "plt.title('Average Expenses by Sex')\n",
        "plt.xlabel('Sex')\n",
        "plt.ylabel('Average Expenses')\n",
        "plt.xticks(rotation=0)\n",
        "plt.grid(axis='y')\n",
        "plt.show()"
      ],
      "metadata": {
        "id": "6foQPgCT8TtU"
      },
      "execution_count": null,
      "outputs": []
    },
    {
      "cell_type": "code",
      "source": [
        "# BMI groups\n",
        "\n",
        "bins = [0, 20, 25, 30, 35, 100]\n",
        "labels = ['<20', '21-25', '26-30', '31-35', '>35']\n",
        "data_for_visual_analysis['bmi_group'] = pd.cut(data_for_visual_analysis['bmi'], bins=bins, labels=labels, right=False)\n",
        "\n",
        "\n",
        "# Bar plot of Average Expenses by BMI Group\n",
        "\n",
        "average_expenses_bmi_group = data_for_visual_analysis.groupby('bmi_group')['expenses'].mean().reset_index()\n",
        "plt.figure(figsize=(8, 5))\n",
        "plt.bar(average_expenses_bmi_group['bmi_group'], average_expenses_bmi_group['expenses'], color='orange')\n",
        "plt.title('Average Expenses by BMI Group')\n",
        "plt.xlabel('BMI Group')\n",
        "plt.ylabel('Average Expenses')\n",
        "plt.grid(axis='y')\n",
        "plt.show()"
      ],
      "metadata": {
        "id": "A0VKRc0FCihA"
      },
      "execution_count": null,
      "outputs": []
    },
    {
      "cell_type": "code",
      "source": [
        "# Bar plot of Average Expenses by Smoker Status\n",
        "\n",
        "expenses_by_smoker = data_for_visual_analysis.groupby('smoker')['expenses'].mean()\n",
        "plt.figure(figsize=(8, 5))\n",
        "expenses_by_smoker.plot(kind='bar', color=['orange', 'skyblue'])\n",
        "plt.title('Average Expenses by Smoker Status')\n",
        "plt.xlabel('Smoker Status')\n",
        "plt.ylabel('Average Expenses')\n",
        "plt.xticks(rotation=0)\n",
        "plt.grid(axis='y')\n",
        "plt.show()"
      ],
      "metadata": {
        "id": "T-h832Gm8oAt"
      },
      "execution_count": null,
      "outputs": []
    },
    {
      "cell_type": "code",
      "source": [
        "# Bar plot of Average Expenses by Number of Children\n",
        "\n",
        "expenses_by_number_of_children = data_for_visual_analysis.groupby('children')['expenses'].mean()\n",
        "plt.figure(figsize=(8, 5))\n",
        "expenses_by_number_of_children.plot(kind='bar', color='orange')\n",
        "plt.title('Average Expenses by Number of Children')\n",
        "plt.xlabel('Number of Children')\n",
        "plt.ylabel('Average Expenses')\n",
        "plt.xticks(rotation=0)\n",
        "plt.grid(axis='y')\n",
        "plt.show()"
      ],
      "metadata": {
        "id": "-9bMv9ze5jy3"
      },
      "execution_count": null,
      "outputs": []
    },
    {
      "cell_type": "code",
      "source": [
        "# Bar plot of Average Expenses by Region\n",
        "\n",
        "average_expenses_region = data_for_visual_analysis.groupby('region')['expenses'].mean().reset_index()\n",
        "plt.figure(figsize=(8, 5))\n",
        "plt.bar(average_expenses_region['region'], average_expenses_region['expenses'], color='skyblue')\n",
        "plt.title('Average Expenses by Region')\n",
        "plt.xlabel('Region')\n",
        "plt.ylabel('Average Expenses')\n",
        "plt.grid(axis='y')\n",
        "plt.show()"
      ],
      "metadata": {
        "id": "yCbFU3bu7Ezp"
      },
      "execution_count": null,
      "outputs": []
    },
    {
      "cell_type": "code",
      "source": [
        "data_for_model = dataset.copy()"
      ],
      "metadata": {
        "id": "nB-MPH52r2dr"
      },
      "execution_count": null,
      "outputs": []
    },
    {
      "cell_type": "code",
      "execution_count": null,
      "metadata": {
        "id": "LcopvQh3X-kX"
      },
      "outputs": [],
      "source": [
        "# Convert categorical data to numbers\n",
        "\n",
        "data_for_model['smoker'] = data_for_model['smoker'].apply(lambda x: 1 if x == 'yes' else 0)\n",
        "\n",
        "data_for_model['sex'] = data_for_model['sex'].apply(lambda x: 1 if x == 'female' else 0)\n",
        "\n",
        "unique_regions = data_for_model['region'].unique()\n",
        "for region in unique_regions:\n",
        "    data_for_model[region] = data_for_model['region'].apply(lambda x: 1 if x == region else 0)\n",
        "data_for_model.drop(columns=['region'], inplace=True)"
      ]
    },
    {
      "cell_type": "code",
      "source": [
        "# Separate target data and features\n",
        "\n",
        "target = data_for_model.pop('expenses')\n",
        "features = data_for_model"
      ],
      "metadata": {
        "id": "Mz_mfQlcVpXE"
      },
      "execution_count": null,
      "outputs": []
    },
    {
      "cell_type": "code",
      "source": [
        "# Separate data into train_dataset and and test_dataset\n",
        "\n",
        "shuffled_indices = np.arange(features.shape[0])\n",
        "np.random.shuffle(shuffled_indices)\n",
        "split_index = int(0.8 * len(shuffled_indices))\n",
        "\n",
        "train_indices = shuffled_indices[:split_index]\n",
        "test_indices = shuffled_indices[split_index:]\n",
        "\n",
        "train_dataset = features.iloc[train_indices]\n",
        "test_dataset = features.iloc[test_indices]\n",
        "train_labels = target.iloc[train_indices]\n",
        "test_labels = target.iloc[test_indices]"
      ],
      "metadata": {
        "id": "AVJNsS5rJUH6"
      },
      "execution_count": null,
      "outputs": []
    },
    {
      "cell_type": "code",
      "source": [
        "# Build and train the regression model\n",
        "\n",
        "model = tf.keras.Sequential()\n",
        "model.add(layers.InputLayer(input_shape=(features.shape[1],)))\n",
        "model.add(layers.Dense(128, activation='relu'))\n",
        "model.add(layers.Dropout(0.1))\n",
        "model.add(layers.Dense(128, activation='relu'))\n",
        "model.add(layers.Dropout(0.1))\n",
        "model.add(layers.Dense(1))\n",
        "\n",
        "model.compile(\n",
        "    optimizer=tf.keras.optimizers.RMSprop(learning_rate=0.05, rho=0.9),\n",
        "    loss='mae',\n",
        "    metrics=['mae', 'mse']\n",
        ")\n",
        "\n",
        "model.fit(\n",
        "    train_dataset,\n",
        "    train_labels,\n",
        "    epochs=60,\n",
        "    shuffle=True,\n",
        "    verbose=\"auto\"\n",
        ")"
      ],
      "metadata": {
        "id": "9NkVlFDVLSDy"
      },
      "execution_count": null,
      "outputs": []
    },
    {
      "cell_type": "code",
      "source": [
        "model.evaluate(\n",
        "    test_dataset,\n",
        "    test_labels,\n",
        "    verbose='auto'\n",
        ")"
      ],
      "metadata": {
        "id": "bQLxSTgaLubW"
      },
      "execution_count": null,
      "outputs": []
    },
    {
      "cell_type": "code",
      "execution_count": null,
      "metadata": {
        "id": "Xe7RXH3N3CWU"
      },
      "outputs": [],
      "source": [
        "# RUN THIS CELL TO TEST YOUR MODEL. DO NOT MODIFY CONTENTS.\n",
        "# Test model by checking how well the model generalizes using the test set.\n",
        "loss, mae, mse = model.evaluate(test_dataset, test_labels, verbose=2)\n",
        "\n",
        "print(\"Testing set Mean Abs Error: {:5.2f} expenses\".format(mae))\n",
        "\n",
        "if mae < 3500:\n",
        "  print(\"You passed the challenge. Great job!\")\n",
        "else:\n",
        "  print(\"The Mean Abs Error must be less than 3500. Keep trying.\")\n",
        "\n",
        "# Plot predictions.\n",
        "test_predictions = model.predict(test_dataset).flatten()\n",
        "\n",
        "a = plt.axes(aspect='equal')\n",
        "plt.scatter(test_labels, test_predictions)\n",
        "plt.xlabel('True values (expenses)')\n",
        "plt.ylabel('Predictions (expenses)')\n",
        "lims = [0, 50000]\n",
        "plt.xlim(lims)\n",
        "plt.ylim(lims)\n",
        "_ = plt.plot(lims,lims)\n"
      ]
    }
  ],
  "metadata": {
    "colab": {
      "private_outputs": true,
      "provenance": [],
      "toc_visible": true
    },
    "kernelspec": {
      "display_name": "Python 3",
      "name": "python3"
    }
  },
  "nbformat": 4,
  "nbformat_minor": 0
}